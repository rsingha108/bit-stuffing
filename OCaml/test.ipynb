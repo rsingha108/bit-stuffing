{
 "cells": [
  {
   "cell_type": "code",
   "execution_count": 2,
   "metadata": {},
   "outputs": [],
   "source": [
    "def stuff(a,k,s):\n",
    "    i = 0\n",
    "    while i < len(a) :\n",
    "        if a[i:i+len(k)] == k:\n",
    "            # insert_ids.append(i+len(k))\n",
    "            a.insert(i+len(k),s)\n",
    "            i += len(k)\n",
    "        else:\n",
    "            i += 1\n",
    "    return a"
   ]
  },
  {
   "cell_type": "code",
   "execution_count": 3,
   "metadata": {},
   "outputs": [
    {
     "data": {
      "text/plain": [
       "[1, 0, 1, 0, 1, 1, 0, 1]"
      ]
     },
     "execution_count": 3,
     "metadata": {},
     "output_type": "execute_result"
    }
   ],
   "source": [
    "a = [1,0,0,1,0]\n",
    "k = [1,0]\n",
    "s = 1\n",
    "stuff(a,k,s)"
   ]
  },
  {
   "cell_type": "code",
   "execution_count": null,
   "metadata": {},
   "outputs": [],
   "source": []
  }
 ],
 "metadata": {
  "kernelspec": {
   "display_name": "Python 3.10.5 64-bit",
   "language": "python",
   "name": "python3"
  },
  "language_info": {
   "codemirror_mode": {
    "name": "ipython",
    "version": 3
   },
   "file_extension": ".py",
   "mimetype": "text/x-python",
   "name": "python",
   "nbconvert_exporter": "python",
   "pygments_lexer": "ipython3",
   "version": "3.10.5"
  },
  "orig_nbformat": 4,
  "vscode": {
   "interpreter": {
    "hash": "ec132cb68ba58a11193cf6b2a53e03c07fb04fbabbad6e2393f651b3f9118ac3"
   }
  }
 },
 "nbformat": 4,
 "nbformat_minor": 2
}
